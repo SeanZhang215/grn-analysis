{
 "cells": [
  {
   "cell_type": "markdown",
   "metadata": {},
   "source": [
    "# Gene Regulatory Network Analysis: Knockout Effects\n",
    "\n",
    "This notebook demonstrates the analysis of gene knockout effects using GenKI framework."
   ]
  },
  {
   "cell_type": "code",
   "execution_count": null,
   "metadata": {},
   "outputs": [],
   "source": [
    "import os\n",
    "from pathlib import Path\n",
    "import pandas as pd\n",
    "import numpy as np\n",
    "import matplotlib.pyplot as plt\n",
    "import seaborn as sns\n",
    "from src.genki_inference import GenKIAnalyzer\n",
    "from src.visualization import NetworkVisualizer"
   ]
  },
  {
   "cell_type": "markdown",
   "metadata": {},
   "source": [
    "## 1. Load Data and GRN"
   ]
  },
  {
   "cell_type": "code",
   "execution_count": null,
   "metadata": {},
   "outputs": [],
   "source": [
    "# Set tissue\n",
    "tissue = \"root\"  # Change this for different tissues\n",
    "\n",
    "# Load expression data\n",
    "adata_path = f\"data/processed/{tissue}_processed.h5ad\"\n",
    "\n",
    "# Load GRN\n",
    "grn_path = f\"results/grn/{tissue}/grn_edges.csv\"\n",
    "grn_df = pd.read_csv(grn_path)\n",
    "\n",
    "# Load target genes\n",
    "target_genes = pd.read_csv(\"data/target_genes.csv\")['GeneID'].tolist()\n",
    "\n",
    "print(f\"Number of target genes: {len(target_genes)}\")"
   ]
  },
  {
   "cell_type": "markdown",
   "metadata": {},
   "source": [
    "## 2. Initialize GenKI Analysis"
   ]
  },
  {
   "cell_type": "code",
   "execution_count": null,
   "metadata": {},
   "outputs": [],
   "source": [
    "# Initialize GenKI analyzer\n",
    "analyzer = GenKIAnalyzer(\n",
    "    epochs=600,\n",
    "    learning_rate=7e-4,\n",
    "    beta=1e-4,\n",
    "    seed=8096\n",
    ")\n",
    "\n",
    "# Setup output directories\n",
    "output_dir = f\"results/genki/{tissue}\"\n",
    "model_dir = f\"models/genki/{tissue}\"\n",
    "os.makedirs(output_dir, exist_ok=True)\n",
    "os.makedirs(model_dir, exist_ok=True)"
   ]
  },
  {
   "cell_type": "markdown",
   "metadata": {},
   "source": [
    "## 3. Run GenKI Analysis"
   ]
  },
  {
   "cell_type": "code",
   "execution_count": null,
   "metadata": {},
   "outputs": [],
   "source": [
    "# Run analysis for target genes\n",
    "genki_results = analyzer.process_multiple_targets(\n",
    "    adata_path=adata_path,\n",
    "    grn_path=grn_path,\n",
    "    target_genes=target_genes,\n",
    "    output_dir=output_dir,\n",
    "    model_dir=model_dir\n",
    ")\n",
    "\n",
    "print(\"Analysis completed for all target genes\")"
   ]
  },
  {
   "cell_type": "markdown",
   "metadata": {},
   "source": [
    "## 4. Validate GRN Edges"
   ]
  },
  {
   "cell_type": "code",
   "execution_count": null,
   "metadata": {},
   "outputs": [],
   "source": [
    "# Validate edges using GenKI results\n",
    "validated_grn = analyzer.validate_grn_edges(grn_df, output_dir)\n",
    "\n",
    "# Display validation statistics\n",
    "total_edges = len(validated_grn)\n",
    "validated_edges = (validated_grn['GenKIValid'] == 1).sum()\n",
    "print(f\"Total edges: {total_edges}\")\n",
    "print(f\"Validated edges: {validated_edges} ({validated_edges/total_edges*100:.1f}%)\")"
   ]
  },
  {
   "cell_type": "markdown",
   "metadata": {},
   "source": [
    "## 5. Analyze Validation Results"
   ]
  },
  {
   "cell_type": "code",
   "execution_count": null,
   "metadata": {},
   "outputs": [],
   "source": [
    "# Initialize visualizer\n",
    "visualizer = NetworkVisualizer()\n",
    "\n",
    "# Plot validation summary\n",
    "plt.figure(figsize=(10, 10))\n",
    "visualizer.plot_genki_validation_summary(validated_grn)\n",
    "plt.title(f\"GenKI Validation Summary - {tissue.capitalize()} Tissue\")\n",
    "plt.show()\n",
    "\n",
    "# Plot distribution of PearsonR by validation status\n",
    "plt.figure(figsize=(10, 6))\n",
    "visualizer.plot_genki_distribution(validated_grn)\n",
    "plt.title(f\"Expression Correlation Distribution by Validation Status - {tissue.capitalize()} Tissue\")\n",
    "plt.show()"
   ]
  },
  {
   "cell_type": "markdown",
   "metadata": {},
   "source": [
    "## 6. Analyze Individual Target Genes"
   ]
  },
  {
   "cell_type": "code",
   "execution_count": null,
   "metadata": {},
   "outputs": [],
   "source": [
    "# Select example target gene\n",
    "example_target = target_genes[0]\n",
    "\n",
    "# Load specific results\n",
    "target_results = pd.read_csv(f\"{output_dir}/{example_target}_res.csv\")\n",
    "\n",
    "# Plot network for target gene\n",
    "plt.figure(figsize=(15, 15))\n",
    "visualizer.plot_network(\n",
    "    validated_grn,\n",
    "    target_gene=example_target,\n",
    "    min_appearance=0.8\n",
    ")\n",
    "plt.title(f\"Validated Network for {example_target}\")\n",
    "plt.show()"
   ]
  },
  {
   "cell_type": "markdown",
   "metadata": {},
   "source": [
    "## 7. Cross-Tissue Comparison"
   ]
  },
  {
   "cell_type": "code",
   "execution_count": null,
   "metadata": {},
   "outputs": [],
   "source": [
    "# Load validation results from different tissues\n",
    "tissues = ['root', 'leaf', 'seed', 'shoot']\n",
    "tissue_results = {}\n",
    "\n",
    "for t in tissues:\n",
    "    results_path = f\"results/genki/{t}/gene_importance_genki.csv\"\n",
    "    if os.path.exists(results_path):\n",
    "        tissue_results[t] = pd.read_csv(results_path)\n",
    "\n",
    "# Compare validation results across tissues\n",
    "if len(tissue_results) > 1:\n",
    "    plt.figure(figsize=(12, 8))\n",
    "    visualizer.plot_tissue_comparison(tissue_results)\n",
    "    plt.title(\"Validated Negative Regulators Across Tissues\")\n",
    "    plt.show()"
   ]
  },
  {
   "cell_type": "markdown",
   "metadata": {},
   "source": [
    "## 8. Save Final Results"
   ]
  },
  {
   "cell_type": "code",
   "execution_count": null,
   "metadata": {},
   "outputs": [],
   "source": [
    "# Save validated network\n",
    "validated_grn.to_csv(f\"{output_dir}/validated_network.csv\", index=False)\n",
    "\n",
    "# Create summary statistics\n",
    "summary_stats = {\n",
    "    'tissue': tissue,\n",
    "    'total_edges': total_edges,\n",
    "    'validated_edges': validated_edges,\n",
    "    'validation_rate': validated_edges/total_edges,\n",
    "    'negative_regulators': (validated_grn['Regulator'] == 'negative').sum(),\n",
    "    'validated_negative': ((validated_grn['Regulator'] == 'negative') & \n",
    "                          (validated_grn['GenKIValid'] == 1)).sum()\n",
    "}\n",
    "\n",
    "# Save summary statistics\n",
    "pd.DataFrame([summary_stats]).to_csv(f\"{output_dir}/validation_summary.csv\", index=False)\n",
    "\n",
    "print(f\"Results saved to {output_dir}\")"
   ]
  }
 ],
 "metadata": {
  "kernelspec": {
   "display_name": "Python 3",
   "language": "python",
   "name": "python3"
  }
 },
 "nbformat": 4,
 "nbformat_minor": 4
}
