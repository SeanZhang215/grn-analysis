{
 "cells": [
  {
   "cell_type": "markdown",
   "metadata": {},
   "source": [
    "# Gene Regulatory Network Analysis: EDA\n",
    "\n",
    "This notebook demonstrates the data loading, quality control, and preprocessing steps for GRN analysis."
   ]
  },
  {
   "cell_type": "code",
   "execution_count": null,
   "metadata": {},
   "outputs": [],
   "source": [
    "import os\n",
    "from pathlib import Path\n",
    "import pandas as pd\n",
    "import numpy as np\n",
    "import matplotlib.pyplot as plt\n",
    "import seaborn as sns\n",
    "import scanpy as sc\n",
    "from src.data_preparation import ExpressionDataPreparer, BatchProcessor"
   ]
  },
  {
   "cell_type": "markdown",
   "metadata": {},
   "source": [
    "## 1. Data Loading\n",
    "\n",
    "Load RNA-seq expression data and transcription factor information"
   ]
  },
  {
   "cell_type": "code",
   "execution_count": null,
   "metadata": {},
   "outputs": [],
   "source": [
    "# Initialize data preparer\n",
    "preparer = ExpressionDataPreparer(\n",
    "    mean_tpm_thresh=1.0,\n",
    "    min_genes=1,\n",
    "    min_obs=1,\n",
    "    variance_quantile=0.0,\n",
    "    random_seed=42\n",
    ")"
   ]
  },
  {
   "cell_type": "code",
   "execution_count": null,
   "metadata": {},
   "outputs": [],
   "source": [
    "# Load raw expression data\n",
    "data_path = \"path/to/your/expression_data.h5ad\"  # Replace with your data path\n",
    "adata = preparer.load_expression_data(data_path)\n",
    "print(f\"Raw data shape: {adata.shape}\")"
   ]
  },
  {
   "cell_type": "markdown",
   "metadata": {},
   "source": [
    "## 2. Quality Control\n",
    "\n",
    "Examine data quality and distribution"
   ]
  },
  {
   "cell_type": "code",
   "execution_count": null,
   "metadata": {},
   "outputs": [],
   "source": [
    "# Plot expression distribution\n",
    "plt.figure(figsize=(10, 6))\n",
    "pd.Series(adata.X.toarray().flatten()).hist(bins=100)\n",
    "plt.title('Raw Expression Distribution')\n",
    "plt.xlabel('Expression Value')\n",
    "plt.ylabel('Frequency')"
   ]
  },
  {
   "cell_type": "code",
   "execution_count": null,
   "metadata": {},
   "outputs": [],
   "source": [
    "# Plot gene detection rate\n",
    "plt.figure(figsize=(10, 6))\n",
    "sc.pp.calculate_qc_metrics(adata, inplace=True)\n",
    "adata.var['n_cells'].hist(bins=50)\n",
    "plt.title('Gene Detection Distribution')\n",
    "plt.xlabel('Number of Cells')\n",
    "plt.ylabel('Number of Genes')"
   ]
  },
  {
   "cell_type": "markdown",
   "metadata": {},
   "source": [
    "## 3. Data Preprocessing\n",
    "\n",
    "Apply filtering and normalization steps"
   ]
  },
  {
   "cell_type": "code",
   "execution_count": null,
   "metadata": {},
   "outputs": [],
   "source": [
    "# Filter data\n",
    "adata_filtered = preparer.filter_data(adata)\n",
    "print(f\"Filtered data shape: {adata_filtered.shape}\")"
   ]
  },
  {
   "cell_type": "code",
   "execution_count": null,
   "metadata": {},
   "outputs": [],
   "source": [
    "# Plot filtered expression distribution\n",
    "plt.figure(figsize=(10, 6))\n",
    "pd.Series(adata_filtered.X.toarray().flatten()).hist(bins=100)\n",
    "plt.title('Filtered Expression Distribution')\n",
    "plt.xlabel('Expression Value')\n",
    "plt.ylabel('Frequency')"
   ]
  },
  {
   "cell_type": "markdown",
   "metadata": {},
   "source": [
    "## 4. Dimensionality Reduction\n",
    "\n",
    "Examine data structure using PCA"
   ]
  },
  {
   "cell_type": "code",
   "execution_count": null,
   "metadata": {},
   "outputs": [],
   "source": [
    "# Compute PCA\n",
    "adata_pca, n_pcs = preparer.compute_pca(adata_filtered)\n",
    "print(f\"Optimal number of PCs: {n_pcs}\")"
   ]
  },
  {
   "cell_type": "code",
   "execution_count": null,
   "metadata": {},
   "outputs": [],
   "source": [
    "# Plot PCA variance ratios\n",
    "plt.figure(figsize=(10, 6))\n",
    "plt.plot(adata_pca.uns['pca']['variance_ratio'])\n",
    "plt.axvline(n_pcs, color='r', linestyle='--')\n",
    "plt.title('PCA Variance Ratio')\n",
    "plt.xlabel('PC')\n",
    "plt.ylabel('Variance Ratio')"
   ]
  },
  {
   "cell_type": "markdown",
   "metadata": {},
   "source": [
    "## 5. Batch Processing\n",
    "\n",
    "Process multiple tissue datasets"
   ]
  },
  {
   "cell_type": "code",
   "execution_count": null,
   "metadata": {},
   "outputs": [],
   "source": [
    "# Initialize batch processor\n",
    "batch_processor = BatchProcessor(preparer)\n",
    "\n",
    "# Process multiple tissues\n",
    "tissues = ['root', 'leaf', 'seed', 'shoot']\n",
    "processed_dfs = batch_processor.process_multiple_tissues(\n",
    "    input_dir=\"path/to/input\",  # Replace with your input directory\n",
    "    output_dir=\"path/to/output\",  # Replace with your output directory\n",
    "    tissues=tissues\n",
    ")\n",
    "\n",
    "# Display results\n",
    "for tissue, df in processed_dfs.items():\n",
    "    print(f\"\\n{tissue} dataset shape: {df.shape}\")"
   ]
  },
  {
   "cell_type": "markdown",
   "metadata": {},
   "source": [
    "## 6. Save Processed Data\n",
    "\n",
    "Save the processed data for downstream analysis"
   ]
  },
  {
   "cell_type": "code",
   "execution_count": null,
   "metadata": {},
   "outputs": [],
   "source": [
    "# Save processed data\n",
    "output_path = \"path/to/processed_data.h5ad\"  # Replace with your output path\n",
    "adata_filtered.write(output_path)\n",
    "print(f\"Processed data saved to: {output_path}\")"
   ]
  }
 ],
 "metadata": {
  "kernelspec": {
   "display_name": "Python 3",
   "language": "python",
   "name": "python3"
  },
  "language_info": {
   "codemirror_mode": {
    "name": "ipython",
    "version": 3
   },
   "file_extension": ".py",
   "mimetype": "text/x-python",
   "name": "python",
   "nbconvert_exporter": "python",
   "pygments_lexer": "ipython3",
   "version": "3.8.0"
  }
 },
 "nbformat": 4,
 "nbformat_minor": 4
}
