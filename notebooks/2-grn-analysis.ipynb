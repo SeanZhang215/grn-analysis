{
 "cells": [
  {
   "cell_type": "markdown",
   "metadata": {},
   "source": [
    "# Gene Regulatory Network Analysis: Network Construction\n",
    "\n",
    "This notebook demonstrates the construction and analysis of Gene Regulatory Networks using GRNBoost2."
   ]
  },
  {
   "cell_type": "code",
   "execution_count": null,
   "metadata": {},
   "outputs": [],
   "source": [
    "import os\n",
    "from pathlib import Path\n",
    "import pandas as pd\n",
    "import numpy as np\n",
    "import matplotlib.pyplot as plt\n",
    "import seaborn as sns\n",
    "from src.grn_construction import GRNBuilder, NetworkAnalyzer\n",
    "from src.visualization import NetworkVisualizer"
   ]
  },
  {
   "cell_type": "markdown",
   "metadata": {},
   "source": [
    "## 1. Load Processed Data"
   ]
  },
  {
   "cell_type": "code",
   "execution_count": null,
   "metadata": {},
   "outputs": [],
   "source": [
    "# Load expression data\n",
    "tissue = \"root\"  # Change this for different tissues\n",
    "expression_path = f\"data/processed/{tissue}_processed.h5ad\"\n",
    "adata = sc.read_h5ad(expression_path)\n",
    "expression_df = adata.to_df()\n",
    "\n",
    "# Load TF list\n",
    "tf_df = pd.read_csv(\"data/tf_list.csv\")\n",
    "tf_names = tf_df['GeneID'].unique().tolist()\n",
    "\n",
    "print(f\"Expression data shape: {expression_df.shape}\")\n",
    "print(f\"Number of TFs: {len(tf_names)}\")"
   ]
  },
  {
   "cell_type": "markdown",
   "metadata": {},
   "source": [
    "## 2. Build Gene Regulatory Network"
   ]
  },
  {
   "cell_type": "code",
   "execution_count": null,
   "metadata": {},
   "outputs": [],
   "source": [
    "# Initialize GRN builder\n",
    "grn_builder = GRNBuilder(n_estimators=500)\n",
    "\n",
    "# Set random seeds for multiple runs\n",
    "seeds = [i * 111 for i in range(5)]\n",
    "\n",
    "# Build GRN\n",
    "grn_df = grn_builder.build_grn(\n",
    "    expression_df=expression_df,\n",
    "    tf_names=tf_names,\n",
    "    seeds=seeds,\n",
    "    top_edges_fraction=0.1\n",
    ")\n",
    "\n",
    "print(f\"GRN edges: {len(grn_df)}\")"
   ]
  },
  {
   "cell_type": "markdown",
   "metadata": {},
   "source": [
    "## 3. Analyze Network Properties"
   ]
  },
  {
   "cell_type": "code",
   "execution_count": null,
   "metadata": {},
   "outputs": [],
   "source": [
    "# Initialize network analyzer\n",
    "analyzer = NetworkAnalyzer()\n",
    "\n",
    "# Calculate network statistics\n",
    "network_stats = analyzer.calculate_network_stats(grn_df)\n",
    "print(\"\\nNetwork Statistics:\")\n",
    "for stat, value in network_stats.items():\n",
    "    print(f\"{stat}: {value}\")"
   ]
  },
  {
   "cell_type": "code",
   "execution_count": null,
   "metadata": {},
   "outputs": [],
   "source": [
    "# Identify hub regulators\n",
    "hub_regulators = analyzer.identify_hub_regulators(grn_df, min_targets=5)\n",
    "print(\"\\nTop 10 Hub Regulators:\")\n",
    "display(hub_regulators.head(10))"
   ]
  },
  {
   "cell_type": "markdown",
   "metadata": {},
   "source": [
    "## 4. Analyze Expression-Regulation Relationships"
   ]
  },
  {
   "cell_type": "code",
   "execution_count": null,
   "metadata": {},
   "outputs": [],
   "source": [
    "# Plot correlation vs importance\n",
    "plt.figure(figsize=(10, 6))\n",
    "sns.scatterplot(\n",
    "    data=grn_df,\n",
    "    x='PearsonR',\n",
    "    y='InputImportance',\n",
    "    alpha=0.5\n",
    ")\n",
    "plt.title('Expression Correlation vs. Regulatory Importance')\n",
    "plt.xlabel('Pearson Correlation')\n",
    "plt.ylabel('Regulatory Importance')\n",
    "plt.show()"
   ]
  },
  {
   "cell_type": "markdown",
   "metadata": {},
   "source": [
    "## 5. Network Visualization"
   ]
  },
  {
   "cell_type": "code",
   "execution_count": null,
   "metadata": {},
   "outputs": [],
   "source": [
    "# Initialize network visualizer\n",
    "visualizer = NetworkVisualizer()\n",
    "\n",
    "# Plot full network\n",
    "visualizer.plot_network(\n",
    "    grn_df,\n",
    "    min_appearance=0.8,\n",
    "    min_edges=1,\n",
    "    figsize=(20, 20)\n",
    ")\n",
    "plt.title(f\"Gene Regulatory Network - {tissue.capitalize()} Tissue\")\n",
    "plt.show()"
   ]
  },
  {
   "cell_type": "code",
   "execution_count": null,
   "metadata": {},
   "outputs": [],
   "source": [
    "# Plot subnetwork for top hub regulator\n",
    "top_hub = hub_regulators.iloc[0]['TF']\n",
    "visualizer.plot_network(\n",
    "    grn_df,\n",
    "    target_gene=top_hub,\n",
    "    min_appearance=0.8,\n",
    "    figsize=(15, 15)\n",
    ")\n",
    "plt.title(f\"Regulatory Network for {top_hub}\")\n",
    "plt.show()"
   ]
  },
  {
   "cell_type": "markdown",
   "metadata": {},
   "source": [
    "## 6. Save Results for Downstream Analysis"
   ]
  },
  {
   "cell_type": "code",
   "execution_count": null,
   "metadata": {},
   "outputs": [],
   "source": [
    "# Save network data\n",
    "output_dir = f\"results/grn/{tissue}\"\n",
    "os.makedirs(output_dir, exist_ok=True)\n",
    "\n",
    "# Save GRN edges\n",
    "grn_df.to_csv(f\"{output_dir}/grn_edges.csv\", index=False)\n",
    "\n",
    "# Save network statistics\n",
    "pd.DataFrame([network_stats]).to_csv(\n",
    "    f\"{output_dir}/network_stats.csv\",\n",
    "    index=False\n",
    ")\n",
    "\n",
    "# Save hub regulators\n",
    "hub_regulators.to_csv(f\"{output_dir}/hub_regulators.csv\", index=False)\n",
    "\n",
    "print(f\"Results saved to {output_dir}\")"
   ]
  },
  {
   "cell_type": "markdown",
   "metadata": {},
   "source": [
    "## 7. Cross-Tissue Analysis (Optional)"
   ]
  },
  {
   "cell_type": "code",
   "execution_count": null,
   "metadata": {},
   "outputs": [],
   "source": [
    "# Load GRNs from different tissues\n",
    "tissues = ['root', 'leaf', 'seed', 'shoot']\n",
    "tissue_grns = {}\n",
    "\n",
    "for t in tissues:\n",
    "    grn_path = f\"results/grn/{t}/grn_edges.csv\"\n",
    "    if os.path.exists(grn_path):\n",
    "        tissue_grns[t] = pd.read_csv(grn_path)\n",
    "\n",
    "# Compare networks across tissues\n",
    "if len(tissue_grns) > 1:\n",
    "    visualizer.plot_tissue_comparison(tissue_grns)\n",
    "    plt.show()"
   ]
  }
 ],
 "metadata": {
  "kernelspec": {
   "display_name": "Python 3",
   "language": "python",
   "name": "python3"
  }
 },
 "nbformat": 4,
 "nbformat_minor": 4
}
